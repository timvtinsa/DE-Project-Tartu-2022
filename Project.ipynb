{
 "cells": [
  {
   "attachments": {},
   "cell_type": "markdown",
   "id": "18961dbb",
   "metadata": {},
   "source": [
    "# Imports"
   ]
  },
  {
   "cell_type": "code",
   "execution_count": 1,
   "id": "775f7766",
   "metadata": {},
   "outputs": [],
   "source": [
    "import pandas as pd\n",
    "import numpy as np"
   ]
  },
  {
   "attachments": {},
   "cell_type": "markdown",
   "id": "c642d328",
   "metadata": {},
   "source": [
    "# Utility functions"
   ]
  },
  {
   "cell_type": "code",
   "execution_count": 2,
   "id": "5011cc8f",
   "metadata": {},
   "outputs": [],
   "source": [
    "import re\n",
    "\n",
    "# Normalizing titles and names makes it easier to compare titles and names found from different sources.\n",
    "\n",
    "def normalize_title(title):\n",
    "    return \" \".join(title.strip().title().split()).replace(\".\", \"\")\n",
    "\n",
    "# Normalizing names:\n",
    "# All the components (e.g first, middle and last name) will be in title case.\n",
    "# A dot will be added to single letter components.\n",
    "# All the components will be separated by one space.\n",
    "# Dashes will not have spaces around it.\n",
    "\n",
    "def normalize_name(name):\n",
    "    name = name.replace(\".\", \". \")\n",
    "    name = name.replace(\"-\", \" -\")\n",
    "    name_components = re.split(r\"\\s+\", name.strip())\n",
    "\n",
    "    def mapper(name):\n",
    "        if re.fullmatch(r\"-*\\w\", name):\n",
    "            return (name + \".\").title()\n",
    "        return name.title()\n",
    "        \n",
    "    name = \" \".join(list(map(mapper, name_components)))\n",
    "    return name.replace(\" -\", \"-\")\n",
    "\n",
    "# Examples:\n",
    "#    parse_first_name(\"Alejandro Corichi\") == \"Alejandro\"\n",
    "#    parse_first_name(\"P. M. Nadolsky\") == \"P. M.\"\n",
    "#    parse_last_name(\"P. M. Nadolsky\") == \"Nadolsky\"\n",
    "\n",
    "def parse_first_name(normalized_name):\n",
    "    return \" \".join(normalized_name.split()[:-1])\n",
    "\n",
    "def parse_last_name(normalized_name):\n",
    "    return normalized_name.split()[-1]\n",
    "\n",
    "# \"Yoshifumi\" and \"Chi-Peng\" are full names, but \"C.\" and \"C. -P.\" are not.\n",
    "\n",
    "def is_full_name(normalized_name):\n",
    "    return (len(normalized_name) > 1) and not re.search(r\"\\.\", normalized_name)"
   ]
  },
  {
   "attachments": {},
   "cell_type": "markdown",
   "id": "d88abef5",
   "metadata": {},
   "source": [
    "# API functions\n",
    "\n",
    "Each function is able to query the real API or return mock data, based on the global variable `MOCK_API`. The mock data is in exactly the same format as the data from real API."
   ]
  },
  {
   "cell_type": "code",
   "execution_count": 24,
   "id": "8da2150a",
   "metadata": {},
   "outputs": [],
   "source": [
    "MOCK_API = True\n",
    "MOCK_FOLDER = \"API_mock_data\""
   ]
  },
  {
   "cell_type": "code",
   "execution_count": 3,
   "id": "6aa0df7f",
   "metadata": {},
   "outputs": [],
   "source": [
    "from urllib.request import urlopen\n",
    "import os\n",
    "import json\n",
    "\n",
    "def get_JSON(URL):\n",
    "    response = urlopen(URL)\n",
    "    decoded = response.read().decode(\"utf-8\")\n",
    "    return json.loads(decoded)"
   ]
  },
  {
   "attachments": {},
   "cell_type": "markdown",
   "id": "eaeaa998",
   "metadata": {},
   "source": [
    "### Gender API"
   ]
  },
  {
   "cell_type": "code",
   "execution_count": 4,
   "id": "57bd7cc4",
   "metadata": {},
   "outputs": [],
   "source": [
    "import random\n",
    "\n",
    "def query_gender_API(first_name):\n",
    "    if MOCK_API:\n",
    "        return {\n",
    "            \"name\": first_name, \n",
    "            \"gender\": random.choice([\"male\", \"female\"]), \n",
    "            \"samples\":  random.randint(10, 10000), \n",
    "            \"accuracy\": random.randint(1, 100), \n",
    "            \"duration\": str(random.randint(10, 50)) + \"ms\"\n",
    "        }\n",
    "    else:\n",
    "        key = \"WX923RkrwWYQE4UGSt4GHEFk7EZYgwUJ5adt\"\n",
    "        url = \"https://gender-api.com/get?key=\" + key + \"&name=\" + first_name\n",
    "        return get_JSON(url)\n",
    "        "
   ]
  },
  {
   "attachments": {},
   "cell_type": "markdown",
   "id": "7b5d1cf7",
   "metadata": {},
   "source": [
    "### University domain API"
   ]
  },
  {
   "cell_type": "code",
   "execution_count": 5,
   "id": "60e73042",
   "metadata": {},
   "outputs": [],
   "source": [
    "def query_university_domain_API(domain):\n",
    "    if MOCK_API:\n",
    "        file_name = os.path.join(MOCK_FOLDER, \"university_\" + domain + \".json\")\n",
    "\n",
    "        if not os.path.exists(file_name):\n",
    "            return []\n",
    "            \n",
    "        with open(file_name) as f:\n",
    "            data = json.load(f)\n",
    "        return data\n",
    "    else:\n",
    "        url = \"http://universities.hipolabs.com/search?domain=\"\n",
    "        return get_JSON(url + domain)"
   ]
  },
  {
   "attachments": {},
   "cell_type": "markdown",
   "id": "97b8d99e",
   "metadata": {},
   "source": [
    "### SerpAPI"
   ]
  },
  {
   "cell_type": "code",
   "execution_count": 6,
   "id": "84cc2446",
   "metadata": {},
   "outputs": [],
   "source": [
    "serpapi_key = \"799376a440acaaaf1a9fedfb955dba15c59fd831751ad3a175b5b3fe84fddeb9\"\n",
    "\n",
    "def query_serpapi_title(title):\n",
    "    if MOCK_API:\n",
    "        file_name = os.path.join(MOCK_FOLDER, \"serpapi_title.json\")\n",
    "        with open(file_name) as f:\n",
    "            data = json.load(f)\n",
    "        return data\n",
    "    else:\n",
    "        url = \"https://serpapi.com/search.json?engine=google_scholar&q=\"\n",
    "\n",
    "        query_title = \"+\".join(title.split())\n",
    "        return get_JSON(url + query_title + \"&hl=en&api_key=\" + serpapi_key)\n",
    "\n",
    "def query_serpapi_author(author_id):\n",
    "    if MOCK_API:\n",
    "        file_name = os.path.join(MOCK_FOLDER, \"serpapi_author_\" + author_id + \".json\")\n",
    "\n",
    "        if not os.path.exists(file_name):\n",
    "            file_name = \"serpapi_author_GOqnRJcAAAAJ.json\"\n",
    "            \n",
    "        with open(file_name) as f:\n",
    "            data = json.load(f)\n",
    "        return data\n",
    "    else:\n",
    "        url = \"https://serpapi.com/search.json?engine=google_scholar_author&author_id=\"\n",
    "\n",
    "        return get_JSON(url + author_id + \"&hl=en&api_key=\" + serpapi_key)"
   ]
  },
  {
   "attachments": {},
   "cell_type": "markdown",
   "id": "eee5156b",
   "metadata": {},
   "source": [
    "### Semantic scholar API\n",
    "\n",
    "This requires `pip install semanticscholar`. The result of calling these functions is not JSON, but a python object."
   ]
  },
  {
   "cell_type": "code",
   "execution_count": 7,
   "id": "060b9eb1",
   "metadata": {},
   "outputs": [],
   "source": [
    "import pickle\n",
    "from semanticscholar import SemanticScholar\n",
    "\n",
    "sch = SemanticScholar()\n",
    "\n",
    "def sch_find_papers(paper_title):\n",
    "    if MOCK_API:\n",
    "        file_name = \"sch_paper_sparsity-certifying_graph_decompositions.pickle\"\n",
    "        file_path = os.path.join(MOCK_FOLDER, file_name)\n",
    "\n",
    "        with open(file_path, \"rb\") as f:\n",
    "            data = pickle.load(f)\n",
    "        return data\n",
    "    else:\n",
    "        return sch.search_paper(paper_title)\n",
    "\n",
    "def sch_find_authors(author_name):\n",
    "    if MOCK_API:\n",
    "        file_name = \"sch_author_c.-p._yuan.pickle\"\n",
    "        file_path = os.path.join(MOCK_FOLDER, file_name)\n",
    "\n",
    "        with open(file_path, \"rb\") as f:\n",
    "            data = pickle.load(f)\n",
    "        return data\n",
    "    else:\n",
    "        return sch.search_author(author_name)"
   ]
  },
  {
   "attachments": {},
   "cell_type": "markdown",
   "id": "17ace1f4",
   "metadata": {},
   "source": [
    "# Functions for augmenting and proccessing data from APIs"
   ]
  },
  {
   "cell_type": "code",
   "execution_count": 8,
   "id": "23d01e88",
   "metadata": {},
   "outputs": [],
   "source": [
    "def get_university_name(email_domain):\n",
    "    # In case of pa.msu.edu, university domain API returns nothing.\n",
    "    # But msu.edu gives Michigan State University. So we need to \n",
    "    # only use last two parts of domain (msu.edu).\n",
    "    split_by_dot = email_domain.split(\".\")\n",
    "    if len(split_by_dot) > 2:\n",
    "        email_domain = \".\".join(split_by_dot[-2:])\n",
    "    \n",
    "    domain_API_json = query_university_domain_API(email_domain)\n",
    "    if len(domain_API_json) > 0:\n",
    "        return domain_API_json[0][\"name\"]\n",
    "    return \"\""
   ]
  },
  {
   "cell_type": "code",
   "execution_count": 9,
   "id": "7126fa62",
   "metadata": {},
   "outputs": [],
   "source": [
    "def sch_doi(paper_title):\n",
    "    data = sch_find_papers(paper_title)\n",
    "\n",
    "    normalized_title = normalize_title(paper_title)\n",
    "\n",
    "    for paper in data:\n",
    "        if normalize_title(paper.title) == normalized_title:\n",
    "            return paper.externalIds.get(\"DOI\", None)\n",
    "\n",
    "    return None"
   ]
  },
  {
   "cell_type": "code",
   "execution_count": 10,
   "id": "ffb6d66a",
   "metadata": {},
   "outputs": [],
   "source": [
    "def sch_full_name(author_name):\n",
    "    data = sch_find_authors(author_name)\n",
    "    norm_author_name = normalize_name(author_name)\n",
    "\n",
    "    for author in data:\n",
    "        match_found = False\n",
    "        if author.aliases:\n",
    "            names = [author.name] + author.aliases\n",
    "        else:\n",
    "            names = [author.name]\n",
    "\n",
    "        full_name = None\n",
    "\n",
    "        for name in names:\n",
    "            norm_name = normalize_name(name)\n",
    "            first_name = parse_first_name(norm_name)\n",
    "            \n",
    "            if is_full_name(first_name):\n",
    "                full_name = name\n",
    "\n",
    "            if norm_author_name == norm_name:\n",
    "                match_found = True\n",
    "\n",
    "        if match_found and full_name:\n",
    "            return normalize_name(full_name)"
   ]
  },
  {
   "cell_type": "code",
   "execution_count": 11,
   "id": "2bbda153",
   "metadata": {},
   "outputs": [],
   "source": [
    "def full_name_and_gender(name):\n",
    "    full_name = None\n",
    "    gender = None\n",
    "    first_name = parse_first_name(name)\n",
    "\n",
    "    if not is_full_name(first_name):\n",
    "        full_name = sch_full_name(name)\n",
    "    else:\n",
    "        full_name = name\n",
    "\n",
    "    if full_name:\n",
    "        gender_json = query_gender_API(parse_first_name(full_name))\n",
    "        if gender_json[\"gender\"] != \"unknown\":\n",
    "            gender = gender_json[\"gender\"]\n",
    "    \n",
    "    return full_name if full_name else name, gender"
   ]
  },
  {
   "cell_type": "code",
   "execution_count": 12,
   "id": "84fba750",
   "metadata": {},
   "outputs": [],
   "source": [
    "def get_author_info(google_scholar_id):\n",
    "    json = query_serpapi_author(google_scholar_id)\n",
    "\n",
    "    name = normalize_name(json[\"author\"][\"name\"])\n",
    "    name, gender = full_name_and_gender(name)\n",
    "    \n",
    "    affiliation = json[\"author\"][\"affiliations\"]\n",
    "    role = \"\"\n",
    "    university = \"\"\n",
    "\n",
    "    if \",\" in affiliation:\n",
    "        role = affiliation.split(\",\")[0:-1]\n",
    "        role = \", \".join(role)\n",
    "        university = affiliation.split(\",\")[-1].strip()\n",
    "    else:\n",
    "        role = affiliation\n",
    "    \n",
    "        email_info = json[\"author\"][\"email\"].strip()\n",
    "        if email_info != \"\":\n",
    "            # Get rid of \"Verified email at\"\n",
    "            email_domain = email_info.split()[-1]\n",
    "            university = get_university_name(email_domain)\n",
    "        \n",
    "    return name, gender, university, role"
   ]
  },
  {
   "cell_type": "code",
   "execution_count": 13,
   "id": "9b954889",
   "metadata": {},
   "outputs": [],
   "source": [
    "def get_info_from_serpapi(paper_title):\n",
    "    json = query_serpapi_title(paper_title)\n",
    "    organic_results = json[\"organic_results\"]\n",
    "    \n",
    "    title = paper_title\n",
    "    authors = {}\n",
    "\n",
    "    if (len(organic_results) > 0):\n",
    "        first_result = organic_results[0]\n",
    "        title = first_result[\"title\"]\n",
    "        authors_json = first_result[\"publication_info\"][\"authors\"]\n",
    "\n",
    "        # Some authors of the paper might be missing\n",
    "        for json in authors_json:\n",
    "            author_id = json[\"author_id\"]\n",
    "\n",
    "            name, gender, university, role = get_author_info(author_id)\n",
    "            authors[name] = {\n",
    "                \"google_scholar_id\": author_id,\n",
    "                \"gender\": gender,\n",
    "                \"university\": university,\n",
    "                \"role\": role\n",
    "            }\n",
    "\n",
    "    return title, authors"
   ]
  },
  {
   "attachments": {},
   "cell_type": "markdown",
   "id": "96785fe1",
   "metadata": {},
   "source": [
    "# Testing\n",
    "\n",
    "Here are some tests for functions from previous sections. They will give correct information using mock data (except gender which is randomly generated). Set the `MOCK_API = False` to test with real APIs."
   ]
  },
  {
   "cell_type": "code",
   "execution_count": 14,
   "id": "3bea9649",
   "metadata": {},
   "outputs": [
    {
     "data": {
      "text/plain": [
       "'Sparsity-certifying Graph Decompositions'"
      ]
     },
     "execution_count": 14,
     "metadata": {},
     "output_type": "execute_result"
    }
   ],
   "source": [
    "sch_find_papers(\"Sparsity-certifying Graph Decompositions\")[16].title"
   ]
  },
  {
   "cell_type": "code",
   "execution_count": 15,
   "id": "b516d094",
   "metadata": {},
   "outputs": [
    {
     "data": {
      "text/plain": [
       "'10.1007/S00373-008-0834-4'"
      ]
     },
     "execution_count": 15,
     "metadata": {},
     "output_type": "execute_result"
    }
   ],
   "source": [
    "sch_doi(\"Sparsity-certifying Graph Decompositions\")"
   ]
  },
  {
   "cell_type": "code",
   "execution_count": 16,
   "id": "15937ce7",
   "metadata": {},
   "outputs": [
    {
     "data": {
      "text/plain": [
       "'C. Yuan'"
      ]
     },
     "execution_count": 16,
     "metadata": {},
     "output_type": "execute_result"
    }
   ],
   "source": [
    "sch_find_authors(\"C.-P. Yuan\")[2].name"
   ]
  },
  {
   "cell_type": "code",
   "execution_count": 17,
   "id": "967988bf",
   "metadata": {},
   "outputs": [
    {
     "data": {
      "text/plain": [
       "'Chien-Peng Yuan'"
      ]
     },
     "execution_count": 17,
     "metadata": {},
     "output_type": "execute_result"
    }
   ],
   "source": [
    "sch_full_name(\"C.-P. Yuan\")"
   ]
  },
  {
   "cell_type": "code",
   "execution_count": 18,
   "id": "15f0c3cc",
   "metadata": {},
   "outputs": [
    {
     "data": {
      "text/plain": [
       "'Monash University'"
      ]
     },
     "execution_count": 18,
     "metadata": {},
     "output_type": "execute_result"
    }
   ],
   "source": [
    "get_university_name(\"monash.edu\")"
   ]
  },
  {
   "cell_type": "code",
   "execution_count": 19,
   "id": "9eb85992",
   "metadata": {},
   "outputs": [
    {
     "data": {
      "text/plain": [
       "'Southern Methodist University'"
      ]
     },
     "execution_count": 19,
     "metadata": {},
     "output_type": "execute_result"
    }
   ],
   "source": [
    "get_university_name(\"smu.edu\")"
   ]
  },
  {
   "cell_type": "code",
   "execution_count": 20,
   "id": "49fa8dff",
   "metadata": {},
   "outputs": [
    {
     "data": {
      "text/plain": [
       "'Michigan State University'"
      ]
     },
     "execution_count": 20,
     "metadata": {},
     "output_type": "execute_result"
    }
   ],
   "source": [
    "get_university_name(\"pa.msu.edu\")"
   ]
  },
  {
   "cell_type": "code",
   "execution_count": 21,
   "id": "2e29f3d5",
   "metadata": {},
   "outputs": [
    {
     "data": {
      "text/plain": [
       "('Chien-Peng Yuan',\n",
       " 'female',\n",
       " 'Michigan State University',\n",
       " 'Professor,  Department of Physics and Astronomy')"
      ]
     },
     "execution_count": 21,
     "metadata": {},
     "output_type": "execute_result"
    }
   ],
   "source": [
    "# Since C.-P. Yuan doesn't have a full name in SerpAPI, it turns to \n",
    "# Semantic scholar API to find that the full name is Chien-Peng Yuan.\n",
    "get_author_info(\"CtDh12YAAAAJ\")"
   ]
  },
  {
   "cell_type": "code",
   "execution_count": 22,
   "id": "aabcf568",
   "metadata": {},
   "outputs": [
    {
     "data": {
      "text/plain": [
       "('Csaba Balazs', 'female', 'Monash University', 'Professor of Physics')"
      ]
     },
     "execution_count": 22,
     "metadata": {},
     "output_type": "execute_result"
    }
   ],
   "source": [
    "# Since Csaba Balazs doesn't have the name of university in SerpAPI,\n",
    "# it takes the email domain monash.edu to find out that it's Monash University.\n",
    "get_author_info(\"boYjNZQAAAAJ\")"
   ]
  },
  {
   "cell_type": "code",
   "execution_count": 23,
   "id": "a3d17284",
   "metadata": {},
   "outputs": [
    {
     "data": {
      "text/plain": [
       "('Calculation of prompt diphoton production cross sections at Fermilab Tevatron and CERN LHC energies',\n",
       " {'Csaba Balazs': {'google_scholar_id': 'boYjNZQAAAAJ',\n",
       "   'gender': 'female',\n",
       "   'university': 'Monash University',\n",
       "   'role': 'Professor of Physics'},\n",
       "  'Pavel Nadolsky': {'google_scholar_id': 'GOqnRJcAAAAJ',\n",
       "   'gender': 'male',\n",
       "   'university': 'Southern Methodist University',\n",
       "   'role': 'Professor of Theoretical Physics'},\n",
       "  'Chien-Peng Yuan': {'google_scholar_id': 'CtDh12YAAAAJ',\n",
       "   'gender': 'female',\n",
       "   'university': 'Michigan State University',\n",
       "   'role': 'Professor,  Department of Physics and Astronomy'}})"
      ]
     },
     "execution_count": 23,
     "metadata": {},
     "output_type": "execute_result"
    }
   ],
   "source": [
    "get_info_from_serpapi(\"Calculation of prompt diphoton production cross sections at Tevatron and\\n  LHC energies\")"
   ]
  },
  {
   "attachments": {},
   "cell_type": "markdown",
   "id": "e036f9fc",
   "metadata": {},
   "source": [
    "# The data pipeline"
   ]
  },
  {
   "cell_type": "code",
   "execution_count": null,
   "id": "08ed6f98",
   "metadata": {},
   "outputs": [],
   "source": [
    "with open(\"papers.json\") as f:\n",
    "    lines = f.readlines()\n",
    "    \n",
    "N = 50000\n",
    "papers = pd.DataFrame([json.loads(x) for x in lines])\n",
    "papers = papers.head(N)\n",
    "papers = papers.drop('abstract', axis=1)"
   ]
  },
  {
   "attachments": {},
   "cell_type": "markdown",
   "id": "9df3b784",
   "metadata": {},
   "source": [
    "The following code block loops through the rows of original data and does the following:\n",
    "\n",
    "1) Send the title of paper to SerpAPI and fetch info about authors.\n",
    "2) SerpAPI also gives the role of aurthor and possibly the name of university.\n",
    "2) If there is no university from SerpAPI, take the email domain and send this to University domain API to get the university.\n",
    "3) If the author doesn't have a full first name in SerpAPI, try to get it from Semantic Scholar API.\n",
    "4) If the full name exists (either from SerpAPI or Semantic Scholar) send it to Gender API to find gender.\n",
    "5) In addition to author information from SerpAPI, the original dataset also has a list of author names. There might be some that do not exist in SerpAPI. Fetch their full names and genders and merge them with SerpAPI authors."
   ]
  },
  {
   "cell_type": "code",
   "execution_count": null,
   "id": "aa8946cb",
   "metadata": {},
   "outputs": [],
   "source": [
    "for index, row in papers.iterrows():\n",
    "    title = row[\"title\"]\n",
    "    title_serpapi, authors = get_info_from_serpapi(title)\n",
    "    paper_doi = sch_doi(title_serpapi)\n",
    "\n",
    "    for author in row[\"authors_parsed\"]:\n",
    "        first_name = author[1].replace(\",\", \"\")\n",
    "        last_name = author[0].replace(\",\", \"\")\n",
    "        \n",
    "        if first_name.strip() != \"\":\n",
    "            name = normalize_name(first_name + \" \" + last_name)\n",
    "            name, gender = full_name_and_gender(name)\n",
    "            \n",
    "            if not (name in authors):\n",
    "                authors[name] = {\n",
    "                    \"google_scholar_id\": None,\n",
    "                    \"gender\": gender,\n",
    "                    \"university\": None,\n",
    "                    \"role\": None\n",
    "                }\n",
    "        else:\n",
    "            # When the first name is empty, it usually \n",
    "            # means that it's an organization,\n",
    "            # e.g PHENIX Collaboration, The DELPHI Collaboration etc.\n",
    "\n",
    "            authors[name] = {\n",
    "                \"google_scholar_id\": None,\n",
    "                \"gender\": None,\n",
    "                \"university\": None,\n",
    "                \"role\": None\n",
    "            }\n",
    "\n",
    "    # TODO: do something with paper title, DOI and author information."
   ]
  },
  {
   "attachments": {},
   "cell_type": "markdown",
   "id": "6220a977",
   "metadata": {},
   "source": [
    "# Neo4J example"
   ]
  },
  {
   "cell_type": "code",
   "execution_count": null,
   "id": "985cc601",
   "metadata": {},
   "outputs": [],
   "source": [
    "from neo4j import GraphDatabase\n",
    "\n",
    "URL = \"bolt://localhost:7687\"\n",
    "\n",
    "# To connect without username and password, you need this in neo4j.conf:\n",
    "# dbms.security.auth_enabled=false\n",
    "driver = GraphDatabase.driver(URL) \n",
    "\n",
    "# If dbms.security.auth_enabled = true\n",
    "# The you need to write:\n",
    "# driver(uri, auth = (user, password))\n",
    "\n",
    "def run_query(tx, query):\n",
    "    result = tx.run(query)\n",
    "    return result.single()[0]\n",
    "\n",
    "with driver.session() as session:\n",
    "    query = \"\"\"\n",
    "        CREATE (a:Test)\n",
    "        SET a.hello = \"Hello\"\n",
    "        SET a.world = \"World\"\n",
    "        RETURN a.hello + ' ' + a.world + ' from node ' + id(a)\n",
    "    \"\"\"\n",
    "    result = session.execute_write(run_query, query)\n",
    "    print(result)\n",
    "\n",
    "driver.close()"
   ]
  }
 ],
 "metadata": {
  "kernelspec": {
   "display_name": "base",
   "language": "python",
   "name": "python3"
  },
  "language_info": {
   "codemirror_mode": {
    "name": "ipython",
    "version": 3
   },
   "file_extension": ".py",
   "mimetype": "text/x-python",
   "name": "python",
   "nbconvert_exporter": "python",
   "pygments_lexer": "ipython3",
   "version": "3.10.6"
  },
  "vscode": {
   "interpreter": {
    "hash": "aa344197fd88475e29942ff01470b64470c8bcab0df959e2b7332a0f81cfc828"
   }
  }
 },
 "nbformat": 4,
 "nbformat_minor": 5
}
